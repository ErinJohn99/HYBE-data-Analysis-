{
 "cells": [
  {
   "cell_type": "code",
   "execution_count": 144,
   "id": "12caafe7",
   "metadata": {},
   "outputs": [],
   "source": [
    "# Step 1: Imports and Setup\n",
    "import pandas as pd\n",
    "from vaderSentiment.vaderSentiment import SentimentIntensityAnalyzer\n",
    "import numpy as np"
   ]
  },
  {
   "cell_type": "code",
   "execution_count": 145,
   "id": "02df6bd2",
   "metadata": {},
   "outputs": [],
   "source": [
    "# Initialize VADER sentiment analyzer\n",
    "analyzer = SentimentIntensityAnalyzer()"
   ]
  },
  {
   "cell_type": "code",
   "execution_count": 146,
   "id": "7ef3fc35",
   "metadata": {},
   "outputs": [],
   "source": [
    "# Step 2: Define the Custom Lexicon\n",
    "custom_lexicon = {\n",
    "    # Terms related to hiatus and breaks\n",
    "    'hiatus': -2.0,\n",
    "    'break': -1.8,\n",
    "    'going their separate ways': -2.5,\n",
    "    'time apart': -2.0,\n",
    "    'second chapter': -1.0,  # Neutral or slightly negative\n",
    "\n",
    "    # Terms related to military enlistment and challenges\n",
    "    'military': -1.5,\n",
    "    'service': -1.0,\n",
    "    'enlistment': -2.0,\n",
    "    'draft': -1.5,\n",
    "    'mandatory': -1.2,\n",
    "    'military requirement': -1.8,\n",
    "\n",
    "    # Terms indicating sadness or loss\n",
    "    'sad': -2.5,\n",
    "    'tearful': -3.0,\n",
    "    'exhausted': -2.5,\n",
    "    'disbanding': -3.5,\n",
    "    'farewell': -2.8,\n",
    "    'tired': -2.0,\n",
    "\n",
    "    # Fan emotions and financial concerns\n",
    "    'infuriated': -3.0,\n",
    "    'robbed': -2.8,\n",
    "    'disappointment': -2.5,\n",
    "    'challenge': -1.5,\n",
    "    'struggle': -1.7,\n",
    "    'fell': -2.0,  # Stock-related\n",
    "    'dropped': -2.2,  # Stock-related\n",
    "\n",
    "    # Context-specific phrases that suggest a mixed or negative sentiment\n",
    "    'not be able to stay together': -2.8,\n",
    "    'market seems to have priced in': -1.5,\n",
    "    'divisive issue': -1.8,\n",
    "    'less-active': -2.0,\n",
    "    'pause': -1.7,\n",
    "    'apart for a while': -1.5,\n",
    "    'void': -2.5\n",
    "} \n"
   ]
  },
  {
   "cell_type": "code",
   "execution_count": 147,
   "id": "f7d81043",
   "metadata": {},
   "outputs": [],
   "source": [
    "# Update VADER analyzer with the custom lexicon\n",
    "analyzer.lexicon.update(custom_lexicon)\n"
   ]
  },
  {
   "cell_type": "code",
   "execution_count": 148,
   "id": "1aa398e1",
   "metadata": {},
   "outputs": [
    {
     "name": "stdout",
     "output_type": "stream",
     "text": [
      "Data loaded successfully.\n"
     ]
    }
   ],
   "source": [
    "# Step 3: Load the Data from Excel File\n",
    "file_path = 'preprocessed_file4.xlsx'  \n",
    "\n",
    "# Update with correct path if necessary\n",
    "try:\n",
    "    data = pd.read_excel(file_path)\n",
    "    print(\"Data loaded successfully.\")\n",
    "except Exception as e:\n",
    "    print(f\"Error loading file: {e}\")"
   ]
  },
  {
   "cell_type": "code",
   "execution_count": 149,
   "id": "e40be30e",
   "metadata": {},
   "outputs": [
    {
     "name": "stdout",
     "output_type": "stream",
     "text": [
      "Columns in data: Index(['Event Date', 'Description', 'News ', 'Sentiment Score ',\n",
      "       'Stock Price Before Event ', 'StockPrice After Event ',\n",
      "       'Stock Price % CHANGE', 'Sentiment Category ', 'Processed Article'],\n",
      "      dtype='object')\n"
     ]
    }
   ],
   "source": [
    "# Verify that the expected column is present\n",
    "print(\"Columns in data:\", data.columns)\n",
    "if 'News ' not in data.columns:\n",
    "    raise ValueError(\"The 'News' column is missing in the dataset.\")"
   ]
  },
  {
   "cell_type": "code",
   "execution_count": 150,
   "id": "6460be6a",
   "metadata": {},
   "outputs": [],
   "source": [
    "# Define a function to calculate sentiment scores and classify them\n",
    "def analyze_sentiment(text):\n",
    "    # Get sentiment scores\n",
    "    scores = analyzer.polarity_scores(text)\n",
    "    compound_score = scores['compound']"
   ]
  },
  {
   "cell_type": "code",
   "execution_count": 151,
   "id": "ee10bff1",
   "metadata": {},
   "outputs": [],
   "source": [
    "from vaderSentiment.vaderSentiment import SentimentIntensityAnalyzer\n",
    "import pandas as pd\n",
    "\n",
    "# Initialize the VADER sentiment analyzer\n",
    "analyzer = SentimentIntensityAnalyzer()\n",
    "\n",
    "# Define a function to calculate sentiment scores and classify them\n",
    "def analyze_sentiment(text):\n",
    "    # Get sentiment scores\n",
    "    scores = analyzer.polarity_scores(text)\n",
    "    compound_score = scores['compound']  # Ensure compound_score is assigned correctly\n",
    "    \n",
    "    # Classify based on compound score\n",
    "    if compound_score >= 0.05:\n",
    "        sentiment = \"Positive\"\n",
    "    elif compound_score <= -0.05:\n",
    "        sentiment = \"Negative\"\n",
    "    else:\n",
    "        sentiment = \"Neutral\"\n",
    "    \n",
    "    # Return the compound score and sentiment\n",
    "    return compound_score, sentiment\n"
   ]
  },
  {
   "cell_type": "code",
   "execution_count": null,
   "id": "225bbb2a",
   "metadata": {},
   "outputs": [],
   "source": []
  },
  {
   "cell_type": "code",
   "execution_count": 152,
   "id": "9196d868",
   "metadata": {},
   "outputs": [],
   "source": [
    "# Step 5: Apply Sentiment Analysis to Each News Article\n",
    "# Create new columns for sentiment score and sentiment label\n",
    "data[['compound_score', 'sentiment']] = data['News '].apply(\n",
    "    lambda text: pd.Series(analyze_sentiment(str(text)))\n",
    ")"
   ]
  },
  {
   "cell_type": "code",
   "execution_count": 153,
   "id": "7e854423",
   "metadata": {},
   "outputs": [
    {
     "name": "stdout",
     "output_type": "stream",
     "text": [
      "Data with Sentiment Scores:\n",
      "                                                News   compound_score sentiment\n",
      "0  The shares are of high interest however are vo...          0.9963  Positive\n",
      "1  Take a bow, BTS. The K-pop phenomenon have rec...          0.9913  Positive\n",
      "2  BTS’s new single “Butter” has already broken a...          0.5417  Positive\n",
      "3  Coldplay and BTS rocket onto the Billboard Hot...          0.8885  Positive\n",
      "4  Between winning awards, commanding the stage a...          0.9947  Positive\n"
     ]
    }
   ],
   "source": [
    "# Check if the new columns were added\n",
    "print(\"Data with Sentiment Scores:\\n\", data[['News ', 'compound_score', 'sentiment']].head())\n"
   ]
  },
  {
   "cell_type": "code",
   "execution_count": 154,
   "id": "03e0135a",
   "metadata": {},
   "outputs": [
    {
     "name": "stdout",
     "output_type": "stream",
     "text": [
      "   Event Date                                        Description  \\\n",
      "0  2020-10-15                                       Goes Public    \n",
      "1  2021-03-04  IFPI artist of the year title sending stocks r...   \n",
      "2  2021-05-21                                 BTS Butter release   \n",
      "3  2021-10-05                         BTSxColdplay No.1 Bllboard   \n",
      "4  2021-11-20                              American music awards   \n",
      "5  2022-01-01                                    Another Hiatus    \n",
      "6  2022-03-21                    Grammy peformance  announement    \n",
      "7  2022-04-04                                   BTS lost grammy    \n",
      "8  2022-06-07               Month in which Hiatus was announced    \n",
      "9  2022-10-17       Lowest lows - Military enlistment announced.   \n",
      "10 2023-03-27  Upward clmb- Jimin album billboard( peak 3rd a...   \n",
      "11 2023-04-25  continous fall-Min hee jin press conference co...   \n",
      "\n",
      "                                                News   Sentiment Score   \\\n",
      "0   The shares are of high interest however are vo...               NaN   \n",
      "1   Take a bow, BTS. The K-pop phenomenon have rec...               NaN   \n",
      "2   BTS’s new single “Butter” has already broken a...               NaN   \n",
      "3   Coldplay and BTS rocket onto the Billboard Hot...               NaN   \n",
      "4   Between winning awards, commanding the stage a...               NaN   \n",
      "5   After an exhausting year filled with relentles...               NaN   \n",
      "6   The Recording Academy has announced the first ...               NaN   \n",
      "7   BTS fans are absolutely “infuriated” after the...               NaN   \n",
      "8   The seven “exhausted” members of the K-pop sup...               NaN   \n",
      "9   On Monday (Oct. 17), BTS's label, Big Hit Musi...               NaN   \n",
      "10  Jimin's infectious hit “Like Crazy” has soared...               NaN   \n",
      "11  To put it mildly, HYBE’s relationship with Min...               NaN   \n",
      "\n",
      "    Stock Price Before Event   StockPrice After Event   Stock Price % CHANGE  \\\n",
      "0                0.000000e+00            254174.906250                   NaN   \n",
      "1                2.093495e+05            230530.734375             10.117643   \n",
      "2                2.606918e+05            281128.468750              7.839387   \n",
      "3                2.905991e+05            321004.843750             10.463114   \n",
      "4                3.838102e+05            412720.531250              7.532467   \n",
      "5                3.364570e+05            294586.750000            -12.444450   \n",
      "6                2.846177e+05            300069.750000              5.429071   \n",
      "7                3.125311e+05            281128.468750            -10.047849   \n",
      "8                2.208155e+05            144551.875000            -34.537247   \n",
      "9                1.176353e+05            112152.320312             -4.661015   \n",
      "10               1.815372e+05            216329.359375             19.165293   \n",
      "11               1.096822e+06            280426.000000            -74.432861   \n",
      "\n",
      "    Sentiment Category                                   Processed Article  \\\n",
      "0                   NaN  share high interest however volatile lamed big...   \n",
      "1                   NaN  take bow bts kpop phenomenon received 2020 ifp...   \n",
      "2                   NaN  bts ’ new single “ butter ” already broken imp...   \n",
      "3                   NaN  coldplay bts rocket onto billboard hot 100 son...   \n",
      "4                   NaN  winning award commanding stage spending time c...   \n",
      "5                   NaN  exhausting year filled relentless pressure mem...   \n",
      "6                   NaN  recording academy announced first slate perfor...   \n",
      "7                   NaN  bts fan absolutely “ infuriated ” south korean...   \n",
      "8                   NaN  seven “ exhausted ” member kpop supergroup bts...   \n",
      "9                   NaN  monday oct 17 btss label big hit music subsidi...   \n",
      "10                  NaN  jimins infectious hit “ like crazy ” soared to...   \n",
      "11                  NaN  put mildly hybe ’ relationship min heejin exce...   \n",
      "\n",
      "    compound_score sentiment  \n",
      "0           0.9963  Positive  \n",
      "1           0.9913  Positive  \n",
      "2           0.5417  Positive  \n",
      "3           0.8885  Positive  \n",
      "4           0.9947  Positive  \n",
      "5           0.9634  Positive  \n",
      "6           0.8176  Positive  \n",
      "7          -0.9451  Negative  \n",
      "8          -0.8978  Negative  \n",
      "9          -0.5431  Negative  \n",
      "10          0.9892  Positive  \n",
      "11         -0.9448  Negative  \n"
     ]
    }
   ],
   "source": [
    "# Set Pandas display options to show all rows and columns\n",
    "pd.set_option('display.max_rows', None)\n",
    "pd.set_option('display.max_columns', None)\n",
    "\n",
    "# Print the DataFrame\n",
    "print(data)"
   ]
  },
  {
   "cell_type": "code",
   "execution_count": 142,
   "id": "8ea019c7",
   "metadata": {},
   "outputs": [
    {
     "name": "stdout",
     "output_type": "stream",
     "text": [
      "Final Data Preview:\n",
      " Empty DataFrame\n",
      "Columns: [compound_score, Sentiment Numeric, Stock Price % CHANGE]\n",
      "Index: []\n"
     ]
    }
   ],
   "source": [
    "# Display final results to verify output\n",
    "print(\"Final Data Preview:\\n\", data.head())\n",
    "\n"
   ]
  },
  {
   "cell_type": "code",
   "execution_count": 143,
   "id": "9c2f511c",
   "metadata": {},
   "outputs": [
    {
     "name": "stdout",
     "output_type": "stream",
     "text": [
      "Sentiment analysis results saved to HYBE.xlsx\n"
     ]
    }
   ],
   "source": [
    "# Step 7: Save Results to New Excel File\n",
    "output_file = 'HYBE.xlsx'\n",
    "try:\n",
    "    data.to_excel(output_file, index=False)\n",
    "    print(f\"Sentiment analysis results saved to {output_file}\")\n",
    "except Exception as e:\n",
    "    print(f\"Error saving file: {e}\")"
   ]
  },
  {
   "cell_type": "code",
   "execution_count": 155,
   "id": "93fff2fd",
   "metadata": {},
   "outputs": [],
   "source": [
    "import seaborn as sns\n",
    "import matplotlib.pyplot as plt"
   ]
  },
  {
   "cell_type": "code",
   "execution_count": 156,
   "id": "f0db22a6",
   "metadata": {},
   "outputs": [],
   "source": [
    "# Convert 'sentiment' text values to numerical values\n",
    "sentiment_mapping = {\"Positive\": 1, \"Negative\": -1, \"Neutral\": 0}\n",
    "data['Sentiment Numeric'] = data['sentiment'].map(sentiment_mapping)\n",
    "\n",
    "# Check for any NaN values in the required columns and drop them\n",
    "data = data[['Sentiment Numeric', 'Stock Price % CHANGE']].dropna()"
   ]
  },
  {
   "cell_type": "code",
   "execution_count": 157,
   "id": "aa7d2598",
   "metadata": {},
   "outputs": [],
   "source": [
    "# Calculate the correlation matrix\n",
    "correlation_matrix = data.corr()"
   ]
  },
  {
   "cell_type": "code",
   "execution_count": null,
   "id": "17f9038d",
   "metadata": {},
   "outputs": [],
   "source": []
  },
  {
   "cell_type": "code",
   "execution_count": 158,
   "id": "c57df40c",
   "metadata": {},
   "outputs": [
    {
     "name": "stdout",
     "output_type": "stream",
     "text": [
      "                      Sentiment Numeric  Stock Price % CHANGE\n",
      "Sentiment Numeric              1.000000              0.709681\n",
      "Stock Price % CHANGE           0.709681              1.000000\n"
     ]
    }
   ],
   "source": [
    "# Display the correlation matrix\n",
    "print(correlation_matrix)"
   ]
  },
  {
   "cell_type": "code",
   "execution_count": 159,
   "id": "a2b1311f",
   "metadata": {},
   "outputs": [
    {
     "data": {
      "image/png": "[encoded data removed]",
      "text/plain": [
       "<Figure size 800x600 with 2 Axes>"
      ]
     },
     "metadata": {},
     "output_type": "display_data"
    }
   ],
   "source": [
    "# Plot the correlation matrix\n",
    "plt.figure(figsize=(8, 6))\n",
    "sns.heatmap(correlation_matrix, annot=True, cmap='coolwarm', fmt='.2f')\n",
    "plt.title(\"Correlation Matrix of Sentiment Scores, Category, and Stock Price Change\")\n",
    "plt.show()"
   ]
  },
  {
   "cell_type": "code",
   "execution_count": 161,
   "id": "11ba3077",
   "metadata": {},
   "outputs": [],
   "source": [
    "#This indicates a strong positive correlation between Sentiment Numeric and Stock Price % CHANGE. Specifically:\n",
    "#As the sentiment improves (from negative to positive), the stock price tends to increase.\n",
    "#Conversely, if the sentiment is negative, it tends to be associated with a decrease in stock price. "
   ]
  },
  {
   "cell_type": "code",
   "execution_count": null,
   "id": "2d681e61",
   "metadata": {},
   "outputs": [],
   "source": [
    "Sentiment analysis done."
   ]
  }
 ],
 "metadata": {
  "kernelspec": {
   "display_name": "Python 3 (ipykernel)",
   "language": "python",
   "name": "python3"
  },
  "language_info": {
   "codemirror_mode": {
    "name": "ipython",
    "version": 3
   },
   "file_extension": ".py",
   "mimetype": "text/x-python",
   "name": "python",
   "nbconvert_exporter": "python",
   "pygments_lexer": "ipython3",
   "version": "3.11.5"
  }
 },
 "nbformat": 4,
 "nbformat_minor": 5
}
